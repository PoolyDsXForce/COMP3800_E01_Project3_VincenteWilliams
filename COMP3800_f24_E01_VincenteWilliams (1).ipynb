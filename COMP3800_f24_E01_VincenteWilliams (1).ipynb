{
 "cells": [
  {
   "cell_type": "code",
   "execution_count": 85,
   "id": "ac778910-e06a-40f4-9689-4d11c1dcc20c",
   "metadata": {},
   "outputs": [],
   "source": [
    "import pandas as pd\n",
    "from sklearn.model_selection import train_test_split\n",
    "from sklearn.ensemble import GradientBoostingClassifier\n",
    "from sklearn.metrics import accuracy_score\n",
    "import pickle"
   ]
  },
  {
   "cell_type": "code",
   "execution_count": 110,
   "id": "2513b3fb-9b5e-42e1-8053-c001805c7a33",
   "metadata": {},
   "outputs": [
    {
     "name": "stdout",
     "output_type": "stream",
     "text": [
      "Accuracy of the Gradient Boosting Model: 0.88\n",
      "Model and scaler have been saved successfully.\n"
     ]
    }
   ],
   "source": [
    "import pandas as pd\n",
    "from sklearn.model_selection import train_test_split\n",
    "from sklearn.preprocessing import StandardScaler\n",
    "from sklearn.ensemble import GradientBoostingClassifier\n",
    "from sklearn.metrics import accuracy_score\n",
    "import pickle\n",
    "\n",
    "df = pd.read_csv('Healthcare-Diabetes.csv')\n",
    "\n",
    "X = df.drop(columns=['Outcome'])\n",
    "y = df['Outcome']\n",
    "\n",
    "X_train, X_test, y_train, y_test = train_test_split(X, y, test_size=0.2, random_state=42)\n",
    "\n",
    "scaler = StandardScaler()\n",
    "X_train_scaled = scaler.fit_transform(X_train)\n",
    "X_test_scaled = scaler.transform(X_test)\n",
    "\n",
    "gbm = GradientBoostingClassifier()\n",
    "gbm.fit(X_train_scaled, y_train)\n",
    "\n",
    "y_pred = gbm.predict(X_test_scaled)\n",
    "accuracy = accuracy_score(y_test, y_pred)\n",
    "print(f\"Accuracy of the Gradient Boosting Model: {accuracy:.2f}\")\n",
    "\n",
    "pickle.dump(gbm, open(\"model.pkl\", \"wb\"))\n",
    "\n",
    "pickle.dump(scaler, open(\"scaler.pkl\", \"wb\"))\n",
    "\n",
    "print(\"Model and scaler have been saved successfully.\")"
   ]
  },
  {
   "cell_type": "code",
   "execution_count": 114,
   "id": "88b76df2-825e-4c48-9cd7-759024f16f27",
   "metadata": {},
   "outputs": [
    {
     "name": "stdout",
     "output_type": "stream",
     "text": [
      "Overwriting app.py\n"
     ]
    }
   ],
   "source": [
    "%%writefile app.py\n",
    "\n",
    "from flask import Flask, request, render_template\n",
    "import numpy as np\n",
    "import pickle\n",
    "\n",
    "app = Flask(__name__)\n",
    "\n",
    "with open('model.pkl', 'rb') as f:\n",
    "    model = pickle.load(f)\n",
    "\n",
    "with open('scaler.pkl', 'rb') as f:\n",
    "    scaler = pickle.load(f)\n",
    "\n",
    "@app.route('/')\n",
    "def home():\n",
    "    return render_template('index.html')\n",
    "\n",
    "@app.route('/predict', methods=['POST'])\n",
    "def predict():\n",
    "    try:\n",
    "        features = [float(x) for x in request.form.values()]\n",
    "        features = np.array(features).reshape(1, -1)\n",
    "        features_scaled = scaler.transform(features)\n",
    "        prediction = model.predict(features_scaled)\n",
    "        return render_template('index.html', predicted_text=f'Diabetes Prediction: {\"Positive\" if prediction[0] == 1 else \"Negative\"}')\n",
    "    except Exception as e:\n",
    "        print(f\"Error: {e}\")\n",
    "        return render_template('index.html', predicted_text=\"Error in prediction\")\n",
    "\n",
    "if __name__ == '__main__':\n",
    "    app.run(debug=True)\n",
    "\n"
   ]
  },
  {
   "cell_type": "code",
   "execution_count": 118,
   "id": "33cf3cfe-0296-43f6-96a7-f6d35ff59a21",
   "metadata": {},
   "outputs": [
    {
     "data": {
      "text/html": [
       "<a href='scaler.pkl' target='_blank'>scaler.pkl</a><br>"
      ],
      "text/plain": [
       "C:\\Users\\vince\\scaler.pkl"
      ]
     },
     "metadata": {},
     "output_type": "display_data"
    },
    {
     "data": {
      "text/html": [
       "<a href='gbm_model.pkl' target='_blank'>gbm_model.pkl</a><br>"
      ],
      "text/plain": [
       "C:\\Users\\vince\\gbm_model.pkl"
      ]
     },
     "metadata": {},
     "output_type": "display_data"
    }
   ],
   "source": [
    "from IPython.display import FileLink\n",
    "\n",
    "display(FileLink('scaler.pkl'))\n",
    "display(FileLink('gbm_model.pkl'))"
   ]
  },
  {
   "cell_type": "code",
   "execution_count": 116,
   "id": "a9701eeb-2578-4f27-9a46-8c95560cfafb",
   "metadata": {},
   "outputs": [
    {
     "name": "stdout",
     "output_type": "stream",
     "text": [
      "Overwriting templates/index.html\n"
     ]
    }
   ],
   "source": [
    "%%writefile templates/index.html\n",
    "\n",
    "<!DOCTYPE html>\n",
    "<html>\n",
    "<head>\n",
    "    <meta charset=\"utf-8\" />\n",
    "    <title>Diabetes Prediction</title>\n",
    "    <style>\n",
    "        body {\n",
    "            font-family: Arial, sans-serif;\n",
    "            background-color: #f4f4f9;\n",
    "            margin: 0;\n",
    "            padding: 0;\n",
    "            display: flex;\n",
    "            justify-content: center;\n",
    "            align-items: center;\n",
    "            height: 100vh;\n",
    "        }\n",
    "        .container {\n",
    "            background-color: #fff;\n",
    "            padding: 20px;\n",
    "            border-radius: 8px;\n",
    "            box-shadow: 0 0 10px rgba(0, 0, 0, 0.1);\n",
    "            width: 400px;\n",
    "        }\n",
    "        h1 {\n",
    "            text-align: center;\n",
    "            color: #333;\n",
    "        }\n",
    "        form {\n",
    "            display: flex;\n",
    "            flex-direction: column;\n",
    "        }\n",
    "        input[type=\"text\"] {\n",
    "            margin-bottom: 10px;\n",
    "            padding: 10px;\n",
    "            border: 1px solid #ccc;\n",
    "            border-radius: 4px;\n",
    "        }\n",
    "        button {\n",
    "            padding: 10px;\n",
    "            background-color: #007bff;\n",
    "            color: #fff;\n",
    "            border: none;\n",
    "            border-radius: 4px;\n",
    "            cursor: pointer.\n",
    "        }\n",
    "        button:hover {\n",
    "            background-color: #0056b3;\n",
    "        }\n",
    "        h2 {\n",
    "            text-align: center;\n",
    "            color: #333;\n",
    "        }\n",
    "    </style>\n",
    "</head>\n",
    "<body>\n",
    "    <div class=\"container\">\n",
    "        <h1>Diabetes Prediction</h1>\n",
    "        <form action=\"{{ url_for('predict')}}\" method=\"post\">\n",
    "            <input type='text' name=\"Pregnancies\" placeholder=\"Pregnancies\" required=\"required\" />\n",
    "            <input type='text' name=\"Glucose\" placeholder=\"Glucose\" required=\"required\" />\n",
    "            <input type='text' name=\"BloodPressure\" placeholder=\"BloodPressure\" required=\"required\" />\n",
    "            <input type='text' name=\"SkinThickness\" placeholder=\"SkinThickness\" required=\"required\" />\n",
    "            <input type='text' name=\"Insulin\" placeholder=\"Insulin\" required=\"required\" />\n",
    "            <input type='text' name=\"BMI\" placeholder=\"BMI\" required=\"required\" />\n",
    "            <input type='text' name=\"DiabetesPedigreeFunction\" placeholder=\"DiabetesPedigreeFunction\" required=\"required\" />\n",
    "            <input type='text' name=\"Age\" placeholder=\"Age\" required=\"required\" />\n",
    "            <input type='text' name=\"Id\" placeholder=\"Id\" required=\"required\" />\n",
    "            <button type=\"submit\" class=\"btn btn-primary btn-large\">Predict</button>\n",
    "        </form>\n",
    "        <h2>The prediction is: {{predicted_text}}</h2>\n",
    "    </div>\n",
    "</body>\n",
    "</html>\n",
    "   \n",
    "\n",
    " "
   ]
  },
  {
   "cell_type": "code",
   "execution_count": 93,
   "id": "1ea8be1f-bec2-4ad1-9647-52aa66ce6e09",
   "metadata": {},
   "outputs": [],
   "source": [
    "import pandas as pd\n",
    "from sklearn.model_selection import train_test_split\n",
    "from sklearn.preprocessing import StandardScaler\n",
    "from sklearn.ensemble import GradientBoostingClassifier\n",
    "from sklearn.tree import DecisionTreeClassifier\n",
    "from sklearn.linear_model import LogisticRegression\n",
    "from sklearn.neighbors import KNeighborsClassifier\n",
    "from sklearn.metrics import accuracy_score, classification_report, confusion_matrix"
   ]
  },
  {
   "cell_type": "code",
   "execution_count": 99,
   "id": "2dd5b029-78c6-4d93-b67e-10455aaee291",
   "metadata": {},
   "outputs": [
    {
     "name": "stdout",
     "output_type": "stream",
     "text": [
      "Model: Gradient Boosting\n",
      "Accuracy: 0.8826714801444043\n",
      "Classification Report:\n",
      "              precision    recall  f1-score   support\n",
      "\n",
      "           0       0.88      0.95      0.91       367\n",
      "           1       0.88      0.75      0.81       187\n",
      "\n",
      "    accuracy                           0.88       554\n",
      "   macro avg       0.88      0.85      0.86       554\n",
      "weighted avg       0.88      0.88      0.88       554\n",
      "\n",
      "Confusion Matrix:\n",
      "[[348  19]\n",
      " [ 46 141]]\n",
      "\n",
      "\n",
      "Model: Decision Tree\n",
      "Accuracy: 0.9620938628158845\n",
      "Classification Report:\n",
      "              precision    recall  f1-score   support\n",
      "\n",
      "           0       0.97      0.98      0.97       367\n",
      "           1       0.96      0.93      0.94       187\n",
      "\n",
      "    accuracy                           0.96       554\n",
      "   macro avg       0.96      0.95      0.96       554\n",
      "weighted avg       0.96      0.96      0.96       554\n",
      "\n",
      "Confusion Matrix:\n",
      "[[359   8]\n",
      " [ 13 174]]\n",
      "\n",
      "\n",
      "Model: Logistic Regression\n",
      "Accuracy: 0.7725631768953068\n",
      "Classification Report:\n",
      "              precision    recall  f1-score   support\n",
      "\n",
      "           0       0.79      0.90      0.84       367\n",
      "           1       0.73      0.52      0.61       187\n",
      "\n",
      "    accuracy                           0.77       554\n",
      "   macro avg       0.76      0.71      0.72       554\n",
      "weighted avg       0.77      0.77      0.76       554\n",
      "\n",
      "Confusion Matrix:\n",
      "[[331  36]\n",
      " [ 90  97]]\n",
      "\n",
      "\n",
      "Model: K-Nearest Neighbors\n",
      "Accuracy: 0.8303249097472925\n",
      "Classification Report:\n",
      "              precision    recall  f1-score   support\n",
      "\n",
      "           0       0.87      0.88      0.87       367\n",
      "           1       0.76      0.73      0.74       187\n",
      "\n",
      "    accuracy                           0.83       554\n",
      "   macro avg       0.81      0.81      0.81       554\n",
      "weighted avg       0.83      0.83      0.83       554\n",
      "\n",
      "Confusion Matrix:\n",
      "[[323  44]\n",
      " [ 50 137]]\n",
      "\n",
      "\n"
     ]
    }
   ],
   "source": [
    "df = pd.read_csv('Healthcare-Diabetes.csv')\n",
    "\n",
    "X = df.drop(columns=['Outcome'])\n",
    "y = df['Outcome']\n",
    "\n",
    "X_train, X_test, y_train, y_test = train_test_split(X, y, test_size=0.2, random_state=42)\n",
    "\n",
    "scaler = StandardScaler()\n",
    "X_train_scaled = scaler.fit_transform(X_train)\n",
    "X_test_scaled = scaler.transform(X_test)\n",
    "\n",
    "models = {\n",
    "    'Gradient Boosting': GradientBoostingClassifier(random_state=42),\n",
    "    'Decision Tree': DecisionTreeClassifier(random_state=42),\n",
    "    'Logistic Regression': LogisticRegression(random_state=42, max_iter=10000),\n",
    "    'K-Nearest Neighbors': KNeighborsClassifier()\n",
    "}\n",
    "\n",
    "results = {}\n",
    "for name, model in models.items():\n",
    "    model.fit(X_train_scaled, y_train)\n",
    "    y_pred = model.predict(X_test_scaled)\n",
    "    accuracy = accuracy_score(y_test, y_pred)\n",
    "    classification_rep = classification_report(y_test, y_pred)\n",
    "    conf_matrix = confusion_matrix(y_test, y_pred)\n",
    "    results[name] = {\n",
    "    'accuracy': accuracy,\n",
    "    'classification_report': classification_rep,\n",
    "    'confusion_matrix': conf_matrix\n",
    "    }\n",
    "\n",
    "for name, result in results.items():\n",
    "    print(f\"Model: {name}\")\n",
    "    print(f\"Accuracy: {result['accuracy']}\")\n",
    "    print(\"Classification Report:\")\n",
    "    print(result['classification_report'])\n",
    "    print(\"Confusion Matrix:\")\n",
    "    print(result['confusion_matrix'])\n",
    "    print(\"\\n\")"
   ]
  }
 ],
 "metadata": {
  "kernelspec": {
   "display_name": "Python 3 (ipykernel)",
   "language": "python",
   "name": "python3"
  },
  "language_info": {
   "codemirror_mode": {
    "name": "ipython",
    "version": 3
   },
   "file_extension": ".py",
   "mimetype": "text/x-python",
   "name": "python",
   "nbconvert_exporter": "python",
   "pygments_lexer": "ipython3",
   "version": "3.12.4"
  }
 },
 "nbformat": 4,
 "nbformat_minor": 5
}
