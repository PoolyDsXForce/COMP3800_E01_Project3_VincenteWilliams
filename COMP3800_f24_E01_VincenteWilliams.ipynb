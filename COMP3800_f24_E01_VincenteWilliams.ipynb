{
 "cells": [
  {
   "cell_type": "code",
   "execution_count": 3,
   "id": "ac778910-e06a-40f4-9689-4d11c1dcc20c",
   "metadata": {},
   "outputs": [],
   "source": [
    "import pandas as pd\n",
    "from sklearn.model_selection import train_test_split\n",
    "from sklearn.ensemble import GradientBoostingClassifier\n",
    "from sklearn.metrics import accuracy_score\n",
    "import pickle"
   ]
  },
  {
   "cell_type": "code",
   "execution_count": 32,
   "id": "b026ff4e-7512-4898-a54d-c6f015c3fcce",
   "metadata": {},
   "outputs": [
    {
     "name": "stdout",
     "output_type": "stream",
     "text": [
      "Accuracy of the Gradient Boosting Model: 0.88\n"
     ]
    }
   ],
   "source": [
    "df = pd.read_csv('Healthcare-Diabetes.csv')\n",
    "\n",
    "X = df.drop(columns=['Outcome'])\n",
    "y = df['Outcome']\n",
    "\n",
    "X_train, X_test, y_train, y_test = train_test_split(X, y, test_size=0.2, random_state=42)\n",
    "\n",
    "gbm = GradientBoostingClassifier()\n",
    "\n",
    "gbm.fit(X_train, y_train)\n",
    "\n",
    "y_pred = gbm.predict(X_test)\n",
    "\n",
    "accuracy = accuracy_score(y_test, y_pred)\n",
    "\n",
    "print(f\"Accuracy of the Gradient Boosting Model: {accuracy:.2f}\")\n",
    "\n",
    "pickle.dump(gbm, open(\"model.pkl\", \"wb\"))"
   ]
  },
  {
   "cell_type": "code",
   "execution_count": 34,
   "id": "88b76df2-825e-4c48-9cd7-759024f16f27",
   "metadata": {},
   "outputs": [
    {
     "name": "stdout",
     "output_type": "stream",
     "text": [
      "Overwriting app.py\n"
     ]
    }
   ],
   "source": [
    "\n",
    "%%writefile app.py\n",
    "\n",
    "from flask import Flask, request, jsonify, render_template\n",
    "import pickle\n",
    "import numpy as np\n",
    "\n",
    "app = Flask(__name__)\n",
    "model = pickle.load(open('model.pkl', 'rb'))\n",
    "\n",
    "@app.route(\"/\")\n",
    "def index():\n",
    "    return render_template(\"index.html\")\n",
    "\n",
    "@app.route(\"/predict\", methods=[\"POST\"])\n",
    "def predict():\n",
    "    float_features = [float(x) for x in request.form.values()]\n",
    "    features = [np.array(float_features)]\n",
    "    prediction = model.prediction(features)\n",
    "    return render_template(\"index.html\", predicted_text=prediction[0])\n",
    "\n",
    "if __name__ == \"__main__\":\n",
    "    app.run(debug=True)"
   ]
  },
  {
   "cell_type": "code",
   "execution_count": 30,
   "id": "a9701eeb-2578-4f27-9a46-8c95560cfafb",
   "metadata": {},
   "outputs": [
    {
     "name": "stdout",
     "output_type": "stream",
     "text": [
      "Writing templates/index.html\n"
     ]
    }
   ],
   "source": [
    "%%writefile templates/index.html\n",
    "\n",
    "<!DOCTYPE html>\n",
    "<html>\n",
    "<head>\n",
    "    <meta charset=\"utf-8\" />\n",
    "    <title>Diabetes Prediction</title>\n",
    "</head>\n",
    "<body>\n",
    "    <h1>Diabetes Prediction</h1>\n",
    "    <form action=\"{{ url_for('predict')}}\" method=\"post\">\n",
    "        <input type='text' name=\"Pregnancies\" placeholder=\"Pregnancies\" required=\"required\" />\n",
    "        <input type='text' name=\"Glucose\" placeholder=\"Glucose\" required=\"required\" />\n",
    "        <input type='text' name=\"BloodPressure\" placeholder=\"BloodPressure\" required=\"required\" />\n",
    "        <input type='text' name=\"SkinThickness\" placeholder=\"SkinThickness\" required=\"required\" />\n",
    "        <input type='text' name=\"Insulin\" placeholder=\"Insulin\" required=\"required\" />\n",
    "        <input type='text' name=\"BMI\" placeholder=\"BMI\" required=\"required\" />\n",
    "        <input type='text' name=\"DiabetesPedigreeFunction\" placeholder=\"DiabetesPedigreeFunction\" required=\"required\" />\n",
    "        <input type='text' name=\"Age\" placeholder=\"Age\" required=\"required\" />\n",
    "        <button type=\"submit\" class=\"btn btn-primary btn-large\">Predict</button>\n",
    "    </form>\n",
    "    <h2>The prediction is: {{predicted_text}}</h2>\n",
    "</body>\n",
    "</html>"
   ]
  },
  {
   "cell_type": "code",
   "execution_count": 45,
   "id": "1ea8be1f-bec2-4ad1-9647-52aa66ce6e09",
   "metadata": {},
   "outputs": [],
   "source": [
    "import pandas as pd\n",
    "from sklearn.model_selection import train_test_split\n",
    "from sklearn.preprocessing import StandardScaler\n",
    "from sklearn.ensemble import GradientBoostingClassifier\n",
    "from sklearn.tree import DecisionTreeClassifier\n",
    "from sklearn.linear_model import LogisticRegression\n",
    "from sklearn.neighbors import KNeighborsClassifier\n",
    "from sklearn.metrics import accuracy_score, classification_report, confusion_matrix"
   ]
  },
  {
   "cell_type": "code",
   "execution_count": 53,
   "id": "2dd5b029-78c6-4d93-b67e-10455aaee291",
   "metadata": {},
   "outputs": [
    {
     "name": "stdout",
     "output_type": "stream",
     "text": [
      "Model: Gradient Boosting\n",
      "Accuracy: 0.8826714801444043\n",
      "Classification Report:\n",
      "              precision    recall  f1-score   support\n",
      "\n",
      "           0       0.88      0.95      0.91       367\n",
      "           1       0.88      0.75      0.81       187\n",
      "\n",
      "    accuracy                           0.88       554\n",
      "   macro avg       0.88      0.85      0.86       554\n",
      "weighted avg       0.88      0.88      0.88       554\n",
      "\n",
      "Confusion Matrix:\n",
      "[[348  19]\n",
      " [ 46 141]]\n",
      "\n",
      "\n",
      "Model: Decision Tree\n",
      "Accuracy: 0.9620938628158845\n",
      "Classification Report:\n",
      "              precision    recall  f1-score   support\n",
      "\n",
      "           0       0.97      0.98      0.97       367\n",
      "           1       0.96      0.93      0.94       187\n",
      "\n",
      "    accuracy                           0.96       554\n",
      "   macro avg       0.96      0.95      0.96       554\n",
      "weighted avg       0.96      0.96      0.96       554\n",
      "\n",
      "Confusion Matrix:\n",
      "[[359   8]\n",
      " [ 13 174]]\n",
      "\n",
      "\n",
      "Model: Logistic Regression\n",
      "Accuracy: 0.7725631768953068\n",
      "Classification Report:\n",
      "              precision    recall  f1-score   support\n",
      "\n",
      "           0       0.79      0.90      0.84       367\n",
      "           1       0.73      0.52      0.61       187\n",
      "\n",
      "    accuracy                           0.77       554\n",
      "   macro avg       0.76      0.71      0.72       554\n",
      "weighted avg       0.77      0.77      0.76       554\n",
      "\n",
      "Confusion Matrix:\n",
      "[[331  36]\n",
      " [ 90  97]]\n",
      "\n",
      "\n",
      "Model: K-Nearest Neighbors\n",
      "Accuracy: 0.8303249097472925\n",
      "Classification Report:\n",
      "              precision    recall  f1-score   support\n",
      "\n",
      "           0       0.87      0.88      0.87       367\n",
      "           1       0.76      0.73      0.74       187\n",
      "\n",
      "    accuracy                           0.83       554\n",
      "   macro avg       0.81      0.81      0.81       554\n",
      "weighted avg       0.83      0.83      0.83       554\n",
      "\n",
      "Confusion Matrix:\n",
      "[[323  44]\n",
      " [ 50 137]]\n",
      "\n",
      "\n"
     ]
    }
   ],
   "source": [
    "df = pd.read_csv('Healthcare-Diabetes.csv')\n",
    "\n",
    "X = df.drop(columns=['Outcome'])\n",
    "y = df['Outcome']\n",
    "\n",
    "X_train, X_test, y_train, y_test = train_test_split(X, y, test_size=0.2, random_state=42)\n",
    "\n",
    "scaler = StandardScaler()\n",
    "X_train_scaled = scaler.fit_transform(X_train)\n",
    "X_test_scaled = scaler.transform(X_test)\n",
    "\n",
    "models = {\n",
    "    'Gradient Boosting': GradientBoostingClassifier(random_state=42),\n",
    "    'Decision Tree': DecisionTreeClassifier(random_state=42),\n",
    "    'Logistic Regression': LogisticRegression(random_state=42, max_iter=10000),\n",
    "    'K-Nearest Neighbors': KNeighborsClassifier()\n",
    "}\n",
    "\n",
    "results = {}\n",
    "for name, model in models.items():\n",
    "    model.fit(X_train_scaled, y_train)\n",
    "    y_pred = model.predict(X_test_scaled)\n",
    "    accuracy = accuracy_score(y_test, y_pred)\n",
    "    classification_rep = classification_report(y_test, y_pred)\n",
    "    conf_matrix = confusion_matrix(y_test, y_pred)\n",
    "    results[name] = {\n",
    "    'accuracy': accuracy,\n",
    "    'classification_report': classification_rep,\n",
    "    'confusion_matrix': conf_matrix\n",
    "    }\n",
    "\n",
    "for name, result in results.items():\n",
    "    print(f\"Model: {name}\")\n",
    "    print(f\"Accuracy: {result['accuracy']}\")\n",
    "    print(\"Classification Report:\")\n",
    "    print(result['classification_report'])\n",
    "    print(\"Confusion Matrix:\")\n",
    "    print(result['confusion_matrix'])\n",
    "    print(\"\\n\")"
   ]
  },
  {
   "cell_type": "code",
   "execution_count": null,
   "id": "e055c900-c029-4c9e-9628-91e9652143f7",
   "metadata": {},
   "outputs": [],
   "source": []
  }
 ],
 "metadata": {
  "kernelspec": {
   "display_name": "Python 3 (ipykernel)",
   "language": "python",
   "name": "python3"
  },
  "language_info": {
   "codemirror_mode": {
    "name": "ipython",
    "version": 3
   },
   "file_extension": ".py",
   "mimetype": "text/x-python",
   "name": "python",
   "nbconvert_exporter": "python",
   "pygments_lexer": "ipython3",
   "version": "3.12.4"
  }
 },
 "nbformat": 4,
 "nbformat_minor": 5
}
